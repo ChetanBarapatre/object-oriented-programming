{
  "nbformat": 4,
  "nbformat_minor": 0,
  "metadata": {
    "colab": {
      "provenance": [],
      "collapsed_sections": [
        "LpIGyu2lcup0"
      ]
    },
    "kernelspec": {
      "name": "python3",
      "display_name": "Python 3"
    },
    "language_info": {
      "name": "python"
    }
  },
  "cells": [
    {
      "cell_type": "markdown",
      "source": [
        "### Write OOP classes to handle the following scenarios:\n",
        "\n",
        "- A user can create and view 2D coordinates\n",
        "- A user can find out the distance between 2 coordinates\n",
        "- A user can find find the distance of a coordinate from origin\n",
        "- A user can check if a point lies on a given line\n",
        "- A user can find the distance between a given 2D point and a given line\n"
      ],
      "metadata": {
        "id": "LODZdxjqFWcE"
      }
    },
    {
      "cell_type": "code",
      "source": [
        "class Point:\n",
        "\n",
        "  def __init__(self,x,y):\n",
        "    self.x_cod = x\n",
        "    self.y_cod = y\n",
        "\n",
        "  def __str__(self):\n",
        "    return '<{},{}>'.format(self.x_cod,self.y_cod) \n",
        "\n",
        "  def euclidean_distance(self,other):\n",
        "    return ((self.x_cod - other.x_cod)**2 + (self.y_cod - other.y_cod)**2)**0.5\n",
        "\n",
        "  def distance_from_origin(self):\n",
        "    # return(self.x_cod**2 + self.y_cod**2)**0.5\n",
        "    return self.euclidean_distance(Point(0,0))   \n",
        "\n",
        "class Line:\n",
        "\n",
        "  def __init__(self,A,B,C):\n",
        "    self.A = A\n",
        "    self.B = B\n",
        "    self.C=  C\n",
        "\n",
        "  def __str__(self):\n",
        "    return '{}x + {}y + {} = 0'.format(self.A,self.B,self.C)  \n",
        "\n",
        "  def point_on_line(line,point):\n",
        "    if line.A*point.x_cod + line.B*point.y_cod + line.C ==0:\n",
        "      return \"lies on the line\"\n",
        "    else:\n",
        "      return \"does not lies on the line\" \n",
        "\n",
        "  def shortest_distance(line,point):\n",
        "    return abs(line.A*point.x_cod + line.B*point.y_cod + line.C)/(line.A**2+line.B**2)**0.5\n"
      ],
      "metadata": {
        "id": "CY9ehclOFXP-"
      },
      "execution_count": null,
      "outputs": []
    },
    {
      "cell_type": "code",
      "source": [
        "p1 = Point(0,0)\n",
        "p2= Point(1,1)\n",
        "print(p1)\n",
        "print(p2)\n",
        "p1.euclidean_distance(p2)\n",
        "p1.distance_from_origin()"
      ],
      "metadata": {
        "colab": {
          "base_uri": "https://localhost:8080/"
        },
        "id": "IGg3m4eEGSLJ",
        "outputId": "9c119b83-4f90-4d91-a055-b76c39b6b87a"
      },
      "execution_count": null,
      "outputs": [
        {
          "output_type": "stream",
          "name": "stdout",
          "text": [
            "<0,0>\n",
            "<1,1>\n"
          ]
        },
        {
          "output_type": "execute_result",
          "data": {
            "text/plain": [
              "0.0"
            ]
          },
          "metadata": {},
          "execution_count": 15
        }
      ]
    },
    {
      "cell_type": "code",
      "source": [
        "l1 = Line(3,4,5)\n",
        "print(l1)"
      ],
      "metadata": {
        "colab": {
          "base_uri": "https://localhost:8080/"
        },
        "id": "lvqNS-V0Uh5E",
        "outputId": "e215850e-091f-41b1-897c-83ea88d7f844"
      },
      "execution_count": null,
      "outputs": [
        {
          "output_type": "stream",
          "name": "stdout",
          "text": [
            "3x + 4y + 5 = 0\n"
          ]
        }
      ]
    },
    {
      "cell_type": "code",
      "source": [
        "l1=Line(1,1,-2)\n",
        "p1 = Point(1,2)\n",
        "print(l1)\n",
        "print(p1)\n",
        "\n",
        "l1.point_on_line(p1)"
      ],
      "metadata": {
        "colab": {
          "base_uri": "https://localhost:8080/",
          "height": 70
        },
        "id": "jyunFJOAUoGn",
        "outputId": "6b1fa7b8-ab91-4ffb-9451-643aaeee7579"
      },
      "execution_count": null,
      "outputs": [
        {
          "output_type": "stream",
          "name": "stdout",
          "text": [
            "1x + 1y + -2 = 0\n",
            "<1,2>\n"
          ]
        },
        {
          "output_type": "execute_result",
          "data": {
            "text/plain": [
              "'does not lies on the line'"
            ],
            "application/vnd.google.colaboratory.intrinsic+json": {
              "type": "string"
            }
          },
          "metadata": {},
          "execution_count": 20
        }
      ]
    },
    {
      "cell_type": "code",
      "source": [
        "l1=Line(1,1,-2)\n",
        "p1 = Point(1,1)\n",
        "print(l1)\n",
        "print(p1)\n",
        "l1.shortest_distance(p1)"
      ],
      "metadata": {
        "colab": {
          "base_uri": "https://localhost:8080/"
        },
        "id": "lwURVq_9ZcT-",
        "outputId": "fe5deee8-b852-4517-b00f-a3a41a8e9a84"
      },
      "execution_count": null,
      "outputs": [
        {
          "output_type": "stream",
          "name": "stdout",
          "text": [
            "1x + 1y + -2 = 0\n",
            "<1,1>\n"
          ]
        },
        {
          "output_type": "execute_result",
          "data": {
            "text/plain": [
              "0.0"
            ]
          },
          "metadata": {},
          "execution_count": 25
        }
      ]
    },
    {
      "cell_type": "markdown",
      "source": [
        "### How objects access attributes"
      ],
      "metadata": {
        "id": "vC82Bzm_bLHH"
      }
    },
    {
      "cell_type": "code",
      "source": [
        "class Person:\n",
        "\n",
        "  def __init__(self,name_input,country_input):\n",
        "    self.name = name_input\n",
        "    self.country = country_input\n",
        "\n",
        "  def greet(self):\n",
        "    if self.country == 'india':\n",
        "      print('Namaste',self.name)\n",
        "    else:\n",
        "      print('Hello',self.name)"
      ],
      "metadata": {
        "id": "kcFicnpKbEXx"
      },
      "execution_count": null,
      "outputs": []
    },
    {
      "cell_type": "code",
      "source": [
        "# how to access attributes\n",
        "p = Person('nitish','india')"
      ],
      "metadata": {
        "id": "m28oeUWjbEwv"
      },
      "execution_count": null,
      "outputs": []
    },
    {
      "cell_type": "code",
      "source": [
        "#when we prepared any class object it has a power to access the all attributes and methods\n",
        "p.country"
      ],
      "metadata": {
        "colab": {
          "base_uri": "https://localhost:8080/",
          "height": 36
        },
        "id": "0yGLFv4HaZOC",
        "outputId": "e0e684cf-4c95-4396-e097-de24a6115cba"
      },
      "execution_count": null,
      "outputs": [
        {
          "output_type": "execute_result",
          "data": {
            "text/plain": [
              "'india'"
            ],
            "application/vnd.google.colaboratory.intrinsic+json": {
              "type": "string"
            }
          },
          "metadata": {},
          "execution_count": 28
        }
      ]
    },
    {
      "cell_type": "code",
      "source": [
        "p.name"
      ],
      "metadata": {
        "colab": {
          "base_uri": "https://localhost:8080/",
          "height": 36
        },
        "id": "hJGNjbpybfl3",
        "outputId": "091e6a1f-71b8-48c7-b99d-568327aab924"
      },
      "execution_count": null,
      "outputs": [
        {
          "output_type": "execute_result",
          "data": {
            "text/plain": [
              "'nitish'"
            ],
            "application/vnd.google.colaboratory.intrinsic+json": {
              "type": "string"
            }
          },
          "metadata": {},
          "execution_count": 29
        }
      ]
    },
    {
      "cell_type": "code",
      "source": [
        "# how to access methods\n",
        "p.greet()"
      ],
      "metadata": {
        "colab": {
          "base_uri": "https://localhost:8080/"
        },
        "id": "aAX-799gbikG",
        "outputId": "17d78842-6bcb-49b3-cbe4-9a646b03d10b"
      },
      "execution_count": null,
      "outputs": [
        {
          "output_type": "stream",
          "name": "stdout",
          "text": [
            "Namaste nitish\n"
          ]
        }
      ]
    },
    {
      "cell_type": "code",
      "source": [
        "# what if i try to access non-existent attributes\n",
        "p.gender"
      ],
      "metadata": {
        "colab": {
          "base_uri": "https://localhost:8080/",
          "height": 182
        },
        "id": "xumy94DAby1P",
        "outputId": "18a7cb91-31e4-4b5f-d205-9f816fda26f0"
      },
      "execution_count": null,
      "outputs": [
        {
          "output_type": "error",
          "ename": "AttributeError",
          "evalue": "ignored",
          "traceback": [
            "\u001b[0;31m---------------------------------------------------------------------------\u001b[0m",
            "\u001b[0;31mAttributeError\u001b[0m                            Traceback (most recent call last)",
            "\u001b[0;32m<ipython-input-31-39388d77d830>\u001b[0m in \u001b[0;36m<module>\u001b[0;34m\u001b[0m\n\u001b[1;32m      1\u001b[0m \u001b[0;31m# what if i try to access non-existent attributes\u001b[0m\u001b[0;34m\u001b[0m\u001b[0;34m\u001b[0m\u001b[0;34m\u001b[0m\u001b[0m\n\u001b[0;32m----> 2\u001b[0;31m \u001b[0mp\u001b[0m\u001b[0;34m.\u001b[0m\u001b[0mgender\u001b[0m\u001b[0;34m\u001b[0m\u001b[0;34m\u001b[0m\u001b[0m\n\u001b[0m",
            "\u001b[0;31mAttributeError\u001b[0m: 'Person' object has no attribute 'gender'"
          ]
        }
      ]
    },
    {
      "cell_type": "markdown",
      "source": [
        "### Attribute creation from outside of the class"
      ],
      "metadata": {
        "id": "_90XGf-KcJtN"
      }
    },
    {
      "cell_type": "code",
      "source": [
        "p.gender = 'male'"
      ],
      "metadata": {
        "id": "9R-LcFUgcJEV"
      },
      "execution_count": null,
      "outputs": []
    },
    {
      "cell_type": "code",
      "source": [
        "p.gender"
      ],
      "metadata": {
        "colab": {
          "base_uri": "https://localhost:8080/",
          "height": 36
        },
        "id": "xKMplnnfcO6U",
        "outputId": "8d6ce377-8aa9-41d5-a58d-2f8c9ef23f45"
      },
      "execution_count": null,
      "outputs": [
        {
          "output_type": "execute_result",
          "data": {
            "text/plain": [
              "'male'"
            ],
            "application/vnd.google.colaboratory.intrinsic+json": {
              "type": "string"
            }
          },
          "metadata": {},
          "execution_count": 33
        }
      ]
    },
    {
      "cell_type": "markdown",
      "source": [
        "### Reference Variables\n",
        "\n",
        "- Reference variables hold the objects\n",
        "- We can create objects without reference variable as well\n",
        "- An object can have multiple reference variables\n",
        "- Assigning a new reference variable to an existing object does not create a new object"
      ],
      "metadata": {
        "id": "LpIGyu2lcup0"
      }
    },
    {
      "cell_type": "code",
      "source": [
        "# object without a reference\n",
        "class Person:\n",
        "\n",
        "  def __init__(self):\n",
        "    self.name = 'nitish'\n",
        "    self.gender = 'male'\n",
        "\n",
        "p = Person() # if we write a person class without p though person class created a object because it basically created a memory object and stored in reference stored variabl p\n",
        "q = p  #object in  stored in memory and p just created adress(reference variable)"
      ],
      "metadata": {
        "id": "H7pOmVEjcvuD"
      },
      "execution_count": null,
      "outputs": []
    },
    {
      "cell_type": "code",
      "source": [
        "# Multiple ref\n",
        "print(id(p)) #means making one object you can give various reference through variuables\n",
        "print(id(q))"
      ],
      "metadata": {
        "colab": {
          "base_uri": "https://localhost:8080/"
        },
        "id": "pEuOzkX4drxx",
        "outputId": "da655d6d-bf5a-4f9d-8f27-9d505d8fd161"
      },
      "execution_count": null,
      "outputs": [
        {
          "output_type": "stream",
          "name": "stdout",
          "text": [
            "139817827505552\n",
            "139817827505552\n"
          ]
        }
      ]
    },
    {
      "cell_type": "code",
      "source": [
        "# change attribute value with the help of 2nd object\n",
        "print(p.name) \n",
        "print(q.name)\n",
        "q.name = 'ankit' # we should be ultracareful because when we do the changes in one variable that changes should be reflected in all variables\n",
        "print(q.name)\n",
        "print(p.name)"
      ],
      "metadata": {
        "colab": {
          "base_uri": "https://localhost:8080/"
        },
        "id": "-JruNhGiesFm",
        "outputId": "710b5fd8-3267-41de-f5e2-e2df502bc9d4"
      },
      "execution_count": null,
      "outputs": [
        {
          "output_type": "stream",
          "name": "stdout",
          "text": [
            "nitish\n",
            "nitish\n",
            "ankit\n",
            "ankit\n"
          ]
        }
      ]
    },
    {
      "cell_type": "markdown",
      "source": [
        "### Pass by reference"
      ],
      "metadata": {
        "id": "wYzC5j2BgIUB"
      }
    },
    {
      "cell_type": "code",
      "source": [
        "class Person:\n",
        "\n",
        "  def __init__(self,name,gender):\n",
        "    self.name = name\n",
        "    self.gender = gender\n",
        "\n",
        "# outside the class -> function\n",
        "def greet(person):\n",
        "  print('Hi my name is',person.name,'and I am a',person.gender)\n",
        "  p1 = Person('ankit','male')\n",
        "  return p1\n",
        "\n",
        "p = Person('nitish','male')\n",
        "x = greet(p)  #it is possible in python that u can give object as a input to outside fuction\n",
        "print(x.name)\n",
        "print(x.gender)"
      ],
      "metadata": {
        "colab": {
          "base_uri": "https://localhost:8080/"
        },
        "id": "VqQeYi3FgJJq",
        "outputId": "2bc4187e-b4f2-415a-f93e-e357bd094484"
      },
      "execution_count": null,
      "outputs": [
        {
          "output_type": "stream",
          "name": "stdout",
          "text": [
            "Hi my name is nitish and I am a male\n",
            "ankit\n",
            "male\n"
          ]
        }
      ]
    },
    {
      "cell_type": "code",
      "source": [
        "class Person:\n",
        "\n",
        "  def __init__(self,name,gender):\n",
        "    self.name = name\n",
        "    self.gender = gender\n",
        "\n",
        "# outside the class -> function\n",
        "def greet(person):\n",
        "  print(id(person))\n",
        "  person.name = 'ankit'\n",
        "  print(person.name)\n",
        "\n",
        "p = Person('nitish','male')\n",
        "print(id(p)) # we not basically sent the object we send the reference of object\n",
        "greet(p)\n",
        "print(p.name)"
      ],
      "metadata": {
        "colab": {
          "base_uri": "https://localhost:8080/"
        },
        "id": "jGblMSnYg1Eo",
        "outputId": "a524c0f0-4d64-45c4-ffdd-f05caa971631"
      },
      "execution_count": null,
      "outputs": [
        {
          "output_type": "stream",
          "name": "stdout",
          "text": [
            "139817827138256\n",
            "139817827138256\n",
            "ankit\n",
            "ankit\n"
          ]
        }
      ]
    },
    {
      "cell_type": "markdown",
      "source": [
        "### Object ki mutability"
      ],
      "metadata": {
        "id": "fl5Bjr1-iC-s"
      }
    },
    {
      "cell_type": "code",
      "source": [
        "class Person:\n",
        "\n",
        "  def __init__(self,name,gender):\n",
        "    self.name = name\n",
        "    self.gender = gender\n",
        "\n",
        "# outside the class -> function\n",
        "def greet(person):\n",
        "  person.name = 'ankit' #generally in python user define classes are mutable if the object imutable then memory addess wil change for this problem\n",
        "  return person\n",
        "\n",
        "p = Person('nitish','male')\n",
        "print(id(p))\n",
        "p1 = greet(p)\n",
        "print(id(p1))"
      ],
      "metadata": {
        "colab": {
          "base_uri": "https://localhost:8080/"
        },
        "id": "XLhZIvuQiD20",
        "outputId": "971efd23-5f0e-42af-bd7e-cd2576e2df74"
      },
      "execution_count": null,
      "outputs": [
        {
          "output_type": "stream",
          "name": "stdout",
          "text": [
            "139817945022160\n",
            "139817945022160\n"
          ]
        }
      ]
    },
    {
      "cell_type": "code",
      "source": [],
      "metadata": {
        "id": "JPB1hxygihKj"
      },
      "execution_count": null,
      "outputs": []
    },
    {
      "cell_type": "markdown",
      "source": [
        "### Encapsulation"
      ],
      "metadata": {
        "id": "DzYUuvIYjF36"
      }
    },
    {
      "cell_type": "code",
      "source": [
        "# instance var -> python tutor  # is a special variable whose value are diff diff depending on object \n",
        "class Person:\n",
        "\n",
        "  def __init__(self,name_input,country_input):\n",
        "    self.name = name_input\n",
        "    self.country = country_input\n",
        "\n",
        "p1 = Person('nitish','india')\n",
        "p2 = Person('steve','australia')"
      ],
      "metadata": {
        "id": "GZ20Q0G1jwwY"
      },
      "execution_count": null,
      "outputs": []
    },
    {
      "cell_type": "code",
      "source": [
        "p2.name"
      ],
      "metadata": {
        "colab": {
          "base_uri": "https://localhost:8080/",
          "height": 36
        },
        "id": "_PPuq80hkjSF",
        "outputId": "0bb966a5-153e-4a56-d909-2668d2b6c5dc"
      },
      "execution_count": null,
      "outputs": [
        {
          "output_type": "execute_result",
          "data": {
            "text/plain": [
              "'steve'"
            ],
            "application/vnd.google.colaboratory.intrinsic+json": {
              "type": "string"
            }
          },
          "metadata": {},
          "execution_count": 42
        }
      ]
    },
    {
      "cell_type": "code",
      "source": [
        "class Atm:\n",
        "\n",
        "  # constructor(special function)->superpower -> \n",
        "  def __init__(self):\n",
        "    print(id(self))\n",
        "    self.pin = ''\n",
        "    self.__balance = 0\n",
        "    #self.menu()\n",
        "\n",
        "  def get_balance(self):\n",
        "    return self.__balance\n",
        "\n",
        "  def set_balance(self,new_value):\n",
        "    if type(new_value) == int:\n",
        "      self.__balance = new_value\n",
        "    else:\n",
        "      print('beta bahot maarenge')\n",
        "\n",
        "  def __menu(self):\n",
        "    user_input = input(\"\"\"\n",
        "    Hi how can I help you?\n",
        "    1. Press 1 to create pin\n",
        "    2. Press 2 to change pin\n",
        "    3. Press 3 to check balance\n",
        "    4. Press 4 to withdraw\n",
        "    5. Anything else to exit\n",
        "    \"\"\")\n",
        "\n",
        "    if user_input == '1':\n",
        "      self.create_pin()\n",
        "    elif user_input == '2':\n",
        "      self.change_pin()\n",
        "    elif user_input == '3':\n",
        "      self.check_balance()\n",
        "    elif user_input == '4':\n",
        "      self.withdraw()\n",
        "    else:\n",
        "      exit()\n",
        "\n",
        "  def create_pin(self):\n",
        "    user_pin = input('enter your pin')\n",
        "    self.pin = user_pin\n",
        "\n",
        "    user_balance = int(input('enter balance'))\n",
        "    self.__balance = user_balance\n",
        "\n",
        "    print('pin created successfully')\n",
        "\n",
        "  def change_pin(self):\n",
        "    old_pin = input('enter old pin')\n",
        "\n",
        "    if old_pin == self.pin:\n",
        "      # let him change the pin\n",
        "      new_pin = input('enter new pin')\n",
        "      self.pin = new_pin\n",
        "      print('pin change successful')\n",
        "    else:\n",
        "      print('nai karne de sakta re baba')\n",
        "\n",
        "  def check_balance(self):\n",
        "    user_pin = input('enter your pin')\n",
        "    if user_pin == self.pin:\n",
        "      print('your balance is ',self.__balance)\n",
        "    else:\n",
        "      print('chal nikal yahan se')\n",
        "\n",
        "  def withdraw(self):\n",
        "    user_pin = input('enter the pin')\n",
        "    if user_pin == self.pin:\n",
        "      # allow to withdraw\n",
        "      amount = int(input('enter the amount'))\n",
        "      if amount <= self.__balance: # private variable\n",
        "        self.__balance = self.__balance - amount\n",
        "        print('withdrawl successful.balance is',self.__balance)\n",
        "      else:\n",
        "        print('abe garib')\n",
        "    else:\n",
        "      print('sale chor')"
      ],
      "metadata": {
        "id": "aVpqVcYfkobF"
      },
      "execution_count": null,
      "outputs": []
    },
    {
      "cell_type": "code",
      "source": [
        "obj = Atm()"
      ],
      "metadata": {
        "colab": {
          "base_uri": "https://localhost:8080/"
        },
        "id": "zQ5Oa75ekoe0",
        "outputId": "aa1c8023-5a90-4d2f-8f76-78dd4a30f764"
      },
      "execution_count": null,
      "outputs": [
        {
          "output_type": "stream",
          "name": "stdout",
          "text": [
            "139817828035408\n"
          ]
        }
      ]
    },
    {
      "cell_type": "code",
      "source": [
        "obj.create_pin()"
      ],
      "metadata": {
        "colab": {
          "base_uri": "https://localhost:8080/"
        },
        "id": "GETTy6RYoVvr",
        "outputId": "e7e9108a-1178-4ce0-9fc8-6c1d2ac7e5b4"
      },
      "execution_count": null,
      "outputs": [
        {
          "output_type": "stream",
          "name": "stdout",
          "text": [
            "enter your pin1234\n",
            "enter balance12000\n",
            "pin created successfully\n"
          ]
        }
      ]
    },
    {
      "cell_type": "code",
      "source": [
        "obj.change_pin()\n",
        "obj._Atm__balance = 'hehehe'"
      ],
      "metadata": {
        "colab": {
          "base_uri": "https://localhost:8080/"
        },
        "id": "O0tuNOgpn4fV",
        "outputId": "0498a582-120f-4f38-b3d3-df5f8784205f"
      },
      "execution_count": null,
      "outputs": [
        {
          "output_type": "stream",
          "name": "stdout",
          "text": [
            "enter old pin1234\n",
            "enter new pin1234\n",
            "pin change successful\n"
          ]
        }
      ]
    },
    {
      "cell_type": "code",
      "source": [
        "obj.withdraw() # though u are making variable private to bhi code fat gaya # nothing truly private in python"
      ],
      "metadata": {
        "colab": {
          "base_uri": "https://localhost:8080/",
          "height": 321
        },
        "id": "OySZ4x-EooFh",
        "outputId": "539de3d5-7541-4a7f-e493-ad90aa3f0185"
      },
      "execution_count": null,
      "outputs": [
        {
          "name": "stdout",
          "output_type": "stream",
          "text": [
            "enter the pin1234\n",
            "enter the amount1000\n"
          ]
        },
        {
          "output_type": "error",
          "ename": "TypeError",
          "evalue": "ignored",
          "traceback": [
            "\u001b[0;31m---------------------------------------------------------------------------\u001b[0m",
            "\u001b[0;31mTypeError\u001b[0m                                 Traceback (most recent call last)",
            "\u001b[0;32m<ipython-input-62-826ea677aa70>\u001b[0m in \u001b[0;36m<module>\u001b[0;34m\u001b[0m\n\u001b[0;32m----> 1\u001b[0;31m \u001b[0mobj\u001b[0m\u001b[0;34m.\u001b[0m\u001b[0mwithdraw\u001b[0m\u001b[0;34m(\u001b[0m\u001b[0;34m)\u001b[0m\u001b[0;34m\u001b[0m\u001b[0;34m\u001b[0m\u001b[0m\n\u001b[0m",
            "\u001b[0;32m<ipython-input-57-ef86674943ac>\u001b[0m in \u001b[0;36mwithdraw\u001b[0;34m(self)\u001b[0m\n\u001b[1;32m     70\u001b[0m       \u001b[0;31m# allow to withdraw\u001b[0m\u001b[0;34m\u001b[0m\u001b[0;34m\u001b[0m\u001b[0;34m\u001b[0m\u001b[0m\n\u001b[1;32m     71\u001b[0m       \u001b[0mamount\u001b[0m \u001b[0;34m=\u001b[0m \u001b[0mint\u001b[0m\u001b[0;34m(\u001b[0m\u001b[0minput\u001b[0m\u001b[0;34m(\u001b[0m\u001b[0;34m'enter the amount'\u001b[0m\u001b[0;34m)\u001b[0m\u001b[0;34m)\u001b[0m\u001b[0;34m\u001b[0m\u001b[0;34m\u001b[0m\u001b[0m\n\u001b[0;32m---> 72\u001b[0;31m       \u001b[0;32mif\u001b[0m \u001b[0mamount\u001b[0m \u001b[0;34m<=\u001b[0m \u001b[0mself\u001b[0m\u001b[0;34m.\u001b[0m\u001b[0m__balance\u001b[0m\u001b[0;34m:\u001b[0m \u001b[0;31m# private variable\u001b[0m\u001b[0;34m\u001b[0m\u001b[0;34m\u001b[0m\u001b[0m\n\u001b[0m\u001b[1;32m     73\u001b[0m         \u001b[0mself\u001b[0m\u001b[0;34m.\u001b[0m\u001b[0m__balance\u001b[0m \u001b[0;34m=\u001b[0m \u001b[0mself\u001b[0m\u001b[0;34m.\u001b[0m\u001b[0m__balance\u001b[0m \u001b[0;34m-\u001b[0m \u001b[0mamount\u001b[0m\u001b[0;34m\u001b[0m\u001b[0;34m\u001b[0m\u001b[0m\n\u001b[1;32m     74\u001b[0m         \u001b[0mprint\u001b[0m\u001b[0;34m(\u001b[0m\u001b[0;34m'withdrawl successful.balance is'\u001b[0m\u001b[0;34m,\u001b[0m\u001b[0mself\u001b[0m\u001b[0;34m.\u001b[0m\u001b[0m__balance\u001b[0m\u001b[0;34m)\u001b[0m\u001b[0;34m\u001b[0m\u001b[0;34m\u001b[0m\u001b[0m\n",
            "\u001b[0;31mTypeError\u001b[0m: '<=' not supported between instances of 'int' and 'str'"
          ]
        }
      ]
    },
    {
      "cell_type": "code",
      "source": [
        "obj.get_balance()"
      ],
      "metadata": {
        "colab": {
          "base_uri": "https://localhost:8080/"
        },
        "id": "vMogR8AomqzX",
        "outputId": "fc47a514-a33f-4ab1-da07-6b60494f5cbb"
      },
      "execution_count": null,
      "outputs": [
        {
          "output_type": "execute_result",
          "data": {
            "text/plain": [
              "0"
            ]
          },
          "metadata": {},
          "execution_count": 51
        }
      ]
    },
    {
      "cell_type": "code",
      "source": [
        "obj.set_balance(1000)"
      ],
      "metadata": {
        "id": "mEvyN0t0mwY3"
      },
      "execution_count": null,
      "outputs": []
    },
    {
      "cell_type": "code",
      "source": [
        "obj.withdraw()"
      ],
      "metadata": {
        "colab": {
          "base_uri": "https://localhost:8080/"
        },
        "id": "hdpKLTvsm082",
        "outputId": "4c8b1fc3-e2f1-41e8-d445-50e293258e6e"
      },
      "execution_count": null,
      "outputs": [
        {
          "output_type": "stream",
          "name": "stdout",
          "text": [
            "enter the pin1234\n",
            "sale chor\n"
          ]
        }
      ]
    },
    {
      "cell_type": "code",
      "source": [
        "#jab variable private bhi rakhna hai aur dusreko access bhi dena hai to phir ata hai concept getter and setter"
      ],
      "metadata": {
        "id": "_PmoDWkQpz3W"
      },
      "execution_count": null,
      "outputs": []
    },
    {
      "cell_type": "code",
      "source": [],
      "metadata": {
        "id": "ZJQJziDR-MWJ"
      },
      "execution_count": null,
      "outputs": []
    },
    {
      "cell_type": "code",
      "source": [
        "# list of objects #basically we can make a object and put it into list and do all list operation\n",
        "class Person:\n",
        "\n",
        "  def __init__(self,name,gender):\n",
        "    self.name = name\n",
        "    self.gender = gender\n",
        "\n",
        "p1 = Person('nitish','male')\n",
        "p2 = Person('ankit','male')\n",
        "p3 = Person('ankita','female')\n",
        "\n",
        "L = [p1,p2,p3]\n",
        "\n",
        "for i in L:\n",
        "  print(i.name,i.gender)"
      ],
      "metadata": {
        "colab": {
          "base_uri": "https://localhost:8080/"
        },
        "id": "GFW8qKWr-MaX",
        "outputId": "eb959a0e-f95f-4efe-ad45-d605bef778df"
      },
      "execution_count": null,
      "outputs": [
        {
          "output_type": "stream",
          "name": "stdout",
          "text": [
            "nitish male\n",
            "ankit male\n",
            "ankita female\n"
          ]
        }
      ]
    },
    {
      "cell_type": "code",
      "source": [
        "# dict of objects\n",
        "# list of objects\n",
        "class Person:\n",
        "\n",
        "  def __init__(self,name,gender):\n",
        "    self.name = name\n",
        "    self.gender = gender\n",
        "\n",
        "p1 = Person('nitish','male')\n",
        "p2 = Person('ankit','male')\n",
        "p3 = Person('ankita','female')\n",
        "\n",
        "d = {'p1':p1,'p2':p2,'p3':p3}\n",
        "\n",
        "for i in d:\n",
        "  print(d[i].gender)"
      ],
      "metadata": {
        "colab": {
          "base_uri": "https://localhost:8080/"
        },
        "id": "rsuh1rVV-2Mm",
        "outputId": "51bf4435-3ad2-4357-c271-28004e61d207"
      },
      "execution_count": null,
      "outputs": [
        {
          "output_type": "stream",
          "name": "stdout",
          "text": [
            "male\n",
            "male\n",
            "female\n"
          ]
        }
      ]
    },
    {
      "cell_type": "markdown",
      "source": [
        "### Static Variables(Vs Instance variables)"
      ],
      "metadata": {
        "id": "HwiNUnpA_TN9"
      }
    },
    {
      "cell_type": "code",
      "source": [
        "# need for static vars\n",
        "#instance variable object ka variable hota hai and static variable class ka variable hota hai\n",
        "#for instance variable  ka value har object ke liye different hota hai aur static variable ka value har object ke liye ke same hota hai"
      ],
      "metadata": {
        "id": "QTWDnd7g_UQe"
      },
      "execution_count": null,
      "outputs": []
    },
    {
      "cell_type": "code",
      "source": [
        "class Atm:\n",
        "\n",
        "  __counter = 1\n",
        "\n",
        "  # constructor(special function)->superpower -> \n",
        "  def __init__(self):\n",
        "    print(id(self))\n",
        "    self.pin = ''\n",
        "    self.__balance = 0 # instance variable -- object ka nam pakda hai\n",
        "    self.cid = Atm.__counter # static variable ---calss ka nam pakda hai\n",
        "    Atm.__counter = Atm.__counter + 1\n",
        "    #self.menu()\n",
        "\n",
        "  # utility functions\n",
        "  @staticmethod # i can access this method without creating a object of class\n",
        "  def get_counter():\n",
        "    return Atm.__counter\n",
        "\n",
        "\n",
        "  def get_balance(self):\n",
        "    return self.__balance\n",
        "\n",
        "  def set_balance(self,new_value):\n",
        "    if type(new_value) == int:\n",
        "      self.__balance = new_value\n",
        "    else:\n",
        "      print('beta bahot maarenge')\n",
        "\n",
        "  def __menu(self):\n",
        "    user_input = input(\"\"\"\n",
        "    Hi how can I help you?\n",
        "    1. Press 1 to create pin\n",
        "    2. Press 2 to change pin\n",
        "    3. Press 3 to check balance\n",
        "    4. Press 4 to withdraw\n",
        "    5. Anything else to exit\n",
        "    \"\"\")\n",
        "\n",
        "    if user_input == '1':\n",
        "      self.create_pin()\n",
        "    elif user_input == '2':\n",
        "      self.change_pin()\n",
        "    elif user_input == '3':\n",
        "      self.check_balance()\n",
        "    elif user_input == '4':\n",
        "      self.withdraw()\n",
        "    else:\n",
        "      exit()\n",
        "\n",
        "  def create_pin(self):\n",
        "    user_pin = input('enter your pin')\n",
        "    self.pin = user_pin\n",
        "\n",
        "    user_balance = int(input('enter balance'))\n",
        "    self.__balance = user_balance\n",
        "\n",
        "    print('pin created successfully')\n",
        "\n",
        "  def change_pin(self):\n",
        "    old_pin = input('enter old pin')\n",
        "\n",
        "    if old_pin == self.pin:\n",
        "      # let him change the pin\n",
        "      new_pin = input('enter new pin')\n",
        "      self.pin = new_pin\n",
        "      print('pin change successful')\n",
        "    else:\n",
        "      print('nai karne de sakta re baba')\n",
        "\n",
        "  def check_balance(self):\n",
        "    user_pin = input('enter your pin')\n",
        "    if user_pin == self.pin:\n",
        "      print('your balance is ',self.__balance)\n",
        "    else:\n",
        "      print('chal nikal yahan se')\n",
        "\n",
        "  def withdraw(self):\n",
        "    user_pin = input('enter the pin')\n",
        "    if user_pin == self.pin:\n",
        "      # allow to withdraw\n",
        "      amount = int(input('enter the amount'))\n",
        "      if amount <= self.__balance:\n",
        "        self.__balance = self.__balance - amount\n",
        "        print('withdrawl successful.balance is',self.__balance)\n",
        "      else:\n",
        "        print('abe garib')\n",
        "    else:\n",
        "      print('sale chor')"
      ],
      "metadata": {
        "id": "rRzsfIbS_gnF"
      },
      "execution_count": null,
      "outputs": []
    },
    {
      "cell_type": "code",
      "source": [
        "c1 = Atm()"
      ],
      "metadata": {
        "colab": {
          "base_uri": "https://localhost:8080/"
        },
        "id": "jPrDDqmnCa9X",
        "outputId": "619f1a23-20e4-4fc4-bbc8-2bd04d8957db"
      },
      "execution_count": null,
      "outputs": [
        {
          "output_type": "stream",
          "name": "stdout",
          "text": [
            "139728159579024\n"
          ]
        }
      ]
    },
    {
      "cell_type": "code",
      "source": [
        "c2=Atm()"
      ],
      "metadata": {
        "colab": {
          "base_uri": "https://localhost:8080/"
        },
        "id": "AaKZM5Z2CeCs",
        "outputId": "3d87c290-b5cc-4852-82c5-9e0f1c104d59"
      },
      "execution_count": null,
      "outputs": [
        {
          "output_type": "stream",
          "name": "stdout",
          "text": [
            "139728159589968\n"
          ]
        }
      ]
    },
    {
      "cell_type": "code",
      "source": [
        "c3 = Atm()"
      ],
      "metadata": {
        "colab": {
          "base_uri": "https://localhost:8080/"
        },
        "id": "Rr9Lvyw-Cjyg",
        "outputId": "d394b76b-9263-4414-a012-0f9e373e7dc9"
      },
      "execution_count": null,
      "outputs": [
        {
          "output_type": "stream",
          "name": "stdout",
          "text": [
            "139728159143568\n"
          ]
        }
      ]
    },
    {
      "cell_type": "code",
      "source": [
        "c1.cid"
      ],
      "metadata": {
        "colab": {
          "base_uri": "https://localhost:8080/"
        },
        "id": "k1MB7h22CpT8",
        "outputId": "3c7cdef9-e464-42d1-8699-d0d3c72537a4"
      },
      "execution_count": null,
      "outputs": [
        {
          "output_type": "execute_result",
          "data": {
            "text/plain": [
              "1"
            ]
          },
          "metadata": {},
          "execution_count": 19
        }
      ]
    },
    {
      "cell_type": "code",
      "source": [
        "c2.cid"
      ],
      "metadata": {
        "colab": {
          "base_uri": "https://localhost:8080/"
        },
        "id": "vF8xaa7iCsWj",
        "outputId": "79af18a0-9fac-4943-abeb-ebb4c0220641"
      },
      "execution_count": null,
      "outputs": [
        {
          "output_type": "execute_result",
          "data": {
            "text/plain": [
              "2"
            ]
          },
          "metadata": {},
          "execution_count": 20
        }
      ]
    },
    {
      "cell_type": "code",
      "source": [
        "c3.cid"
      ],
      "metadata": {
        "colab": {
          "base_uri": "https://localhost:8080/"
        },
        "id": "PxiPjlHiC4PE",
        "outputId": "8a4d75b1-f8f4-4956-8612-1931a0854c1a"
      },
      "execution_count": null,
      "outputs": [
        {
          "output_type": "execute_result",
          "data": {
            "text/plain": [
              "3"
            ]
          },
          "metadata": {},
          "execution_count": 21
        }
      ]
    },
    {
      "cell_type": "code",
      "source": [
        "Atm.get_counter()"
      ],
      "metadata": {
        "colab": {
          "base_uri": "https://localhost:8080/"
        },
        "id": "R-Ec7AYfC5jn",
        "outputId": "dd114846-b83d-4571-f723-c7c13b266929"
      },
      "execution_count": null,
      "outputs": [
        {
          "output_type": "execute_result",
          "data": {
            "text/plain": [
              "4"
            ]
          },
          "metadata": {},
          "execution_count": 22
        }
      ]
    }
  ]
}