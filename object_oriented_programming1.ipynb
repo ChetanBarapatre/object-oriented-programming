{
  "nbformat": 4,
  "nbformat_minor": 0,
  "metadata": {
    "colab": {
      "provenance": [],
      "collapsed_sections": [
        "L2UzPINAJ_s-"
      ]
    },
    "kernelspec": {
      "name": "python3",
      "display_name": "Python 3"
    },
    "language_info": {
      "name": "python"
    }
  },
  "cells": [
    {
      "cell_type": "code",
      "execution_count": null,
      "metadata": {
        "colab": {
          "base_uri": "https://localhost:8080/",
          "height": 182
        },
        "id": "7v8IiD1jj7z2",
        "outputId": "fd1b6527-3eb8-4a4a-8667-3a2f566e0f38"
      },
      "outputs": [
        {
          "output_type": "error",
          "ename": "AttributeError",
          "evalue": "ignored",
          "traceback": [
            "\u001b[0;31m---------------------------------------------------------------------------\u001b[0m",
            "\u001b[0;31mAttributeError\u001b[0m                            Traceback (most recent call last)",
            "\u001b[0;32m<ipython-input-1-a3553cd136be>\u001b[0m in \u001b[0;36m<module>\u001b[0;34m\u001b[0m\n\u001b[1;32m      1\u001b[0m \u001b[0mL\u001b[0m\u001b[0;34m=\u001b[0m\u001b[0;34m[\u001b[0m\u001b[0;36m1\u001b[0m\u001b[0;34m,\u001b[0m\u001b[0;36m2\u001b[0m\u001b[0;34m,\u001b[0m\u001b[0;36m3\u001b[0m\u001b[0;34m]\u001b[0m\u001b[0;34m\u001b[0m\u001b[0;34m\u001b[0m\u001b[0m\n\u001b[0;32m----> 2\u001b[0;31m \u001b[0mL\u001b[0m\u001b[0;34m.\u001b[0m\u001b[0mupper\u001b[0m\u001b[0;34m(\u001b[0m\u001b[0;34m)\u001b[0m\u001b[0;34m\u001b[0m\u001b[0;34m\u001b[0m\u001b[0m\n\u001b[0m",
            "\u001b[0;31mAttributeError\u001b[0m: 'list' object has no attribute 'upper'"
          ]
        }
      ],
      "source": [
        "L=[1,2,3]\n",
        "L.upper()"
      ]
    },
    {
      "cell_type": "code",
      "source": [
        "s='hello'\n",
        "s.append('x')"
      ],
      "metadata": {
        "colab": {
          "base_uri": "https://localhost:8080/",
          "height": 182
        },
        "id": "rL1NEKKYkxML",
        "outputId": "ddb11467-8899-4ae6-cd99-8450f56eda90"
      },
      "execution_count": null,
      "outputs": [
        {
          "output_type": "error",
          "ename": "AttributeError",
          "evalue": "ignored",
          "traceback": [
            "\u001b[0;31m---------------------------------------------------------------------------\u001b[0m",
            "\u001b[0;31mAttributeError\u001b[0m                            Traceback (most recent call last)",
            "\u001b[0;32m<ipython-input-2-e12ba0a0e375>\u001b[0m in \u001b[0;36m<module>\u001b[0;34m\u001b[0m\n\u001b[1;32m      1\u001b[0m \u001b[0ms\u001b[0m\u001b[0;34m=\u001b[0m\u001b[0;34m'hello'\u001b[0m\u001b[0;34m\u001b[0m\u001b[0;34m\u001b[0m\u001b[0m\n\u001b[0;32m----> 2\u001b[0;31m \u001b[0ms\u001b[0m\u001b[0;34m.\u001b[0m\u001b[0mappend\u001b[0m\u001b[0;34m(\u001b[0m\u001b[0;34m'x'\u001b[0m\u001b[0;34m)\u001b[0m\u001b[0;34m\u001b[0m\u001b[0;34m\u001b[0m\u001b[0m\n\u001b[0m",
            "\u001b[0;31mAttributeError\u001b[0m: 'str' object has no attribute 'append'"
          ]
        }
      ]
    },
    {
      "cell_type": "code",
      "source": [
        "#everything in python is object\n",
        "#oop has given power to programmer to make its own datatype according to their application need"
      ],
      "metadata": {
        "id": "J-f2eTCYk2mq"
      },
      "execution_count": null,
      "outputs": []
    },
    {
      "cell_type": "code",
      "source": [
        "L=[1,2,3]\n",
        "print(type(L))"
      ],
      "metadata": {
        "colab": {
          "base_uri": "https://localhost:8080/"
        },
        "id": "omK6udgBnnCy",
        "outputId": "136af5af-4652-468d-abbc-fa805fbb8f72"
      },
      "execution_count": null,
      "outputs": [
        {
          "output_type": "stream",
          "name": "stdout",
          "text": [
            "<class 'list'>\n"
          ]
        }
      ]
    },
    {
      "cell_type": "code",
      "source": [
        "#list,set,dictionary,tuple.....are the built in classes and we assign \n",
        "# L variable assign to list so python called that variable as object of that class(list)\n",
        "#In python whatever datatype u use that are called class and whatever the variable u assingn to them called as objects\n",
        "#class is set of rule and that rule followed by objects\n",
        "#In python two type of classes that are inbuild and user define"
      ],
      "metadata": {
        "id": "pUSukbtenunp"
      },
      "execution_count": null,
      "outputs": []
    },
    {
      "cell_type": "code",
      "source": [
        "#Class--data(property)---fuctions(behavior)\n",
        "#object is instance of class"
      ],
      "metadata": {
        "id": "1ro0yn9hskt5"
      },
      "execution_count": null,
      "outputs": []
    },
    {
      "cell_type": "code",
      "source": [
        "# syntax to create an object\n",
        "#objectname = classname()"
      ],
      "metadata": {
        "id": "i3kNr0vZuKbE"
      },
      "execution_count": null,
      "outputs": []
    },
    {
      "cell_type": "code",
      "source": [
        "#object Literal\n",
        "L=[1,2,3]"
      ],
      "metadata": {
        "id": "giMG7FpmuhqY"
      },
      "execution_count": null,
      "outputs": []
    },
    {
      "cell_type": "code",
      "source": [
        "L=list()\n",
        "L"
      ],
      "metadata": {
        "colab": {
          "base_uri": "https://localhost:8080/"
        },
        "id": "YKL-49TNurNP",
        "outputId": "0ad1820f-2c27-454f-dae1-7808305183a6"
      },
      "execution_count": null,
      "outputs": [
        {
          "output_type": "execute_result",
          "data": {
            "text/plain": [
              "[]"
            ]
          },
          "metadata": {},
          "execution_count": 8
        }
      ]
    },
    {
      "cell_type": "code",
      "source": [
        "s=str()\n",
        "s"
      ],
      "metadata": {
        "colab": {
          "base_uri": "https://localhost:8080/",
          "height": 36
        },
        "id": "7CQ2Ya0vuvDf",
        "outputId": "87363253-c8e7-44b6-acf1-60a77c005050"
      },
      "execution_count": null,
      "outputs": [
        {
          "output_type": "execute_result",
          "data": {
            "text/plain": [
              "''"
            ],
            "application/vnd.google.colaboratory.intrinsic+json": {
              "type": "string"
            }
          },
          "metadata": {},
          "execution_count": 9
        }
      ]
    },
    {
      "cell_type": "code",
      "source": [
        "#class name should in Pascal case\n",
        "#HelloWorld"
      ],
      "metadata": {
        "id": "Lv2RtAgo2IYZ"
      },
      "execution_count": null,
      "outputs": []
    },
    {
      "cell_type": "code",
      "source": [
        "class Atm:\n",
        "\n",
        "  #constructor(special fuction -no need to call the fuction)--fuction inside the class----------------variable are made indside condtructor---variable are generated with initiala self\n",
        "  def __init__(self):\n",
        "    self.pin = ''\n",
        "    self.balance=0\n",
        "    #print('I am executed')\n",
        "    self.menu()\n",
        "\n",
        "  def menu(self):\n",
        "    user_input = input(\"\"\"\n",
        "    Hi how can I help you?\n",
        "    1.Press 1 to create pin\n",
        "    2.Press 2 to change pin\n",
        "    3.Press 3 to check balance\n",
        "    4.Press 4 to withdraw\n",
        "    5.Anything else to exit\n",
        "    \"\"\")\n",
        "    if user_input == '1':\n",
        "      # create pin\n",
        "      self.create_pin()\n",
        "    elif user_input == '2':\n",
        "      # change pin\n",
        "      self.change_pin()\n",
        "     \n",
        "    elif user_input == '3':\n",
        "      # check balance\n",
        "      self.check_balance()\n",
        "      \n",
        "    elif user_input == '4':\n",
        "      # withdraw\n",
        "      self.withdraw()\n",
        "      \n",
        "    else:\n",
        "      exit()  \n",
        "\n",
        "  def create_pin(self):\n",
        "    user_pin=input('enter your pin')\n",
        "    self.pin = user_pin\n",
        "\n",
        "    user_balance=int(input('enter balance'))   \n",
        "    self.balance = user_balance\n",
        "\n",
        "    print('pin created successfully') \n",
        "    self.menu()   \n",
        "\n",
        "  def change_pin(self):\n",
        "    old_pin=input('enter old pin')\n",
        "\n",
        "    if old_pin == self.pin:\n",
        "      #let him change the pin\n",
        "      new_pin = input('enter new pin')\n",
        "      self.pin = new_pin\n",
        "      print('pin change successfully')\n",
        "      self.menu()\n",
        "    else:\n",
        "      print('mushkil hai')\n",
        "      self.menu()    \n",
        "\n",
        "  def check_balance(self): #call mentod\n",
        "    user_pin=input('enter your pin')    \n",
        "    if user_pin == self.pin :\n",
        "      print('your balance is',self.balance)\n",
        "    else:\n",
        "      print('tu badam khake a') \n",
        "\n",
        "  def withdraw(self):  # call mentod\n",
        "    user_pin=input('enter the pin')\n",
        "    if user_pin == self.pin:\n",
        "      #allow to withdraw\n",
        "      amount = int(input('enter the amount'))\n",
        "      if amount <= self.balance:\n",
        "        self.balance = self.balance - amount\n",
        "        print('withdrawal successful.balance is',self.balance)\n",
        "      else:\n",
        "        print('beta thoda kam paisa nikal')  \n",
        "    else:\n",
        "      print('tu badam khake a re')\n",
        "    self.menu()             "
      ],
      "metadata": {
        "id": "JwvZCIlcuzy3"
      },
      "execution_count": null,
      "outputs": []
    },
    {
      "cell_type": "code",
      "source": [
        "obj = Atm() #constuctor is a special fuction that no need to call explicitely"
      ],
      "metadata": {
        "colab": {
          "base_uri": "https://localhost:8080/"
        },
        "id": "yhty2XLX3XfC",
        "outputId": "fa22aa80-790b-4eee-a052-b3fad5107305"
      },
      "execution_count": null,
      "outputs": [
        {
          "output_type": "stream",
          "name": "stdout",
          "text": [
            "I am executed\n"
          ]
        }
      ]
    },
    {
      "cell_type": "code",
      "source": [
        "print(type(obj))"
      ],
      "metadata": {
        "colab": {
          "base_uri": "https://localhost:8080/"
        },
        "id": "zNhHNnvV3ifY",
        "outputId": "10cc57e5-d8a2-45d4-9608-3fbb26e0974f"
      },
      "execution_count": null,
      "outputs": [
        {
          "output_type": "stream",
          "name": "stdout",
          "text": [
            "<class '__main__.Atm'>\n"
          ]
        }
      ]
    },
    {
      "cell_type": "code",
      "source": [
        "obj."
      ],
      "metadata": {
        "id": "lWYVRKVi3nnY"
      },
      "execution_count": null,
      "outputs": []
    },
    {
      "cell_type": "code",
      "source": [
        "obj2=Atm() #when we created a object contructor called automatically----"
      ],
      "metadata": {
        "colab": {
          "base_uri": "https://localhost:8080/"
        },
        "id": "T316taGW4FoM",
        "outputId": "4504b03d-209e-4c82-9345-b36b2f719413"
      },
      "execution_count": null,
      "outputs": [
        {
          "output_type": "stream",
          "name": "stdout",
          "text": [
            "I am executed\n"
          ]
        }
      ]
    },
    {
      "cell_type": "code",
      "source": [
        "obj1=Atm()"
      ],
      "metadata": {
        "colab": {
          "base_uri": "https://localhost:8080/"
        },
        "id": "Hwd82KmF6Opp",
        "outputId": "00444859-94d1-429f-a6b0-19904e07ed6f"
      },
      "execution_count": null,
      "outputs": [
        {
          "name": "stdout",
          "output_type": "stream",
          "text": [
            "\n",
            "    Hi how can I help you?\n",
            "    1.Press 1 to create pin\n",
            "    2.Press 2 to change pin\n",
            "    3.Press 3 to check balance\n",
            "    4.Press 4 to withdraw\n",
            "    5.Anything else to exit\n",
            "    4\n",
            "enter the pin1234\n",
            "tu badam khake a re\n",
            "\n",
            "    Hi how can I help you?\n",
            "    1.Press 1 to create pin\n",
            "    2.Press 2 to change pin\n",
            "    3.Press 3 to check balance\n",
            "    4.Press 4 to withdraw\n",
            "    5.Anything else to exit\n",
            "    1\n",
            "enter your pin1234\n",
            "enter balance12000\n",
            "pin created successfully\n",
            "\n",
            "    Hi how can I help you?\n",
            "    1.Press 1 to create pin\n",
            "    2.Press 2 to change pin\n",
            "    3.Press 3 to check balance\n",
            "    4.Press 4 to withdraw\n",
            "    5.Anything else to exit\n",
            "    4\n",
            "enter the pin3456\n",
            "tu badam khake a re\n",
            "\n",
            "    Hi how can I help you?\n",
            "    1.Press 1 to create pin\n",
            "    2.Press 2 to change pin\n",
            "    3.Press 3 to check balance\n",
            "    4.Press 4 to withdraw\n",
            "    5.Anything else to exit\n",
            "    7\n"
          ]
        }
      ]
    },
    {
      "cell_type": "code",
      "source": [
        "#methods vs fuction\n",
        "#fuction which is implemented under class called method\n",
        "#fuction which is independently exsist outside of class call fuction"
      ],
      "metadata": {
        "id": "hJ9POq7J6zHx"
      },
      "execution_count": null,
      "outputs": []
    },
    {
      "cell_type": "code",
      "source": [
        "L = [1,2,3]\n",
        "len(L) # fuction -> because it  is outside list class\n",
        "L.append()---inside the list class"
      ],
      "metadata": {
        "id": "jxhApIQBHr3w"
      },
      "execution_count": null,
      "outputs": []
    },
    {
      "cell_type": "code",
      "source": [
        "#class diagram\n",
        "#  +--->public==that thing visible outside class\n",
        "# - >>>> private--that thing not visible outside class"
      ],
      "metadata": {
        "id": "z12bKHraI2Yg"
      },
      "execution_count": null,
      "outputs": []
    },
    {
      "cell_type": "markdown",
      "source": [
        "#Magic method"
      ],
      "metadata": {
        "id": "L2UzPINAJ_s-"
      }
    },
    {
      "cell_type": "code",
      "source": [
        "#or dunder method\n",
        "# when we see double underscore like __init__ , __name__ ect are called magic method\n",
        "#contructor---it is a method but is a special method(we didnt need to call)\n",
        "#in python u can't change the name of constuctor(__init__)\n",
        "#what its benefit --- cofiguration related task like(connecting to databse,internet start) ,such type of task that we dont rely on customer,\n",
        "#such type of method we can write in contructor (you not giving the control to users)"
      ],
      "metadata": {
        "id": "ckINiHbKJgVy"
      },
      "execution_count": null,
      "outputs": []
    },
    {
      "cell_type": "code",
      "source": [
        "#goldon rule of oop---only only only object can access the data and mentods under calss not even class method  to solve that issue we use self\n",
        "# what is self then---self is nothing but  active object see eg\n",
        "# so why self is default parameter ---because u need a object of the class who need to talk inside the class\n",
        "#u can change the name of self"
      ],
      "metadata": {
        "id": "ewE7K5ixOK8L"
      },
      "execution_count": null,
      "outputs": []
    },
    {
      "cell_type": "code",
      "source": [
        "class AtmB:\n",
        "\n",
        "  #constructor(special fuction -no need to call the fuction)--fuction inside the class----------------variable are made indside condtructor---variable are generated with initiala self\n",
        "  def __init__(self):\n",
        "    print(id(self))\n",
        "    self.pin = ''\n",
        "    self.balance=0\n",
        "    #print('I am executed')\n",
        "    #self.menu()"
      ],
      "metadata": {
        "id": "bv6mmR7yP_D-"
      },
      "execution_count": null,
      "outputs": []
    },
    {
      "cell_type": "code",
      "source": [
        "obj =AtmB()\n"
      ],
      "metadata": {
        "colab": {
          "base_uri": "https://localhost:8080/"
        },
        "id": "a2BAYl8AQRE9",
        "outputId": "17ae85ca-f887-4a30-870b-e75be75a8460"
      },
      "execution_count": null,
      "outputs": [
        {
          "output_type": "stream",
          "name": "stdout",
          "text": [
            "140434075182608\n"
          ]
        }
      ]
    },
    {
      "cell_type": "code",
      "source": [
        "id(obj)"
      ],
      "metadata": {
        "colab": {
          "base_uri": "https://localhost:8080/"
        },
        "id": "qVqsSPwFQX-B",
        "outputId": "ac11546c-d359-4ce6-9ff1-651556df3cf9"
      },
      "execution_count": null,
      "outputs": [
        {
          "output_type": "execute_result",
          "data": {
            "text/plain": [
              "140434075182608"
            ]
          },
          "metadata": {},
          "execution_count": 5
        }
      ]
    },
    {
      "cell_type": "code",
      "source": [
        "#making fraction datatye\n",
        "\n",
        "class Fraction:\n",
        "\n",
        "  #parameterized contructor --- where u expect some input\n",
        "  def __init__(self,x,y):\n",
        "    self.num = x\n",
        "    self.den = y\n",
        "\n",
        "  def __str__(self): # if u want to tell python how your object show\n",
        "    return '{}/{}'.format(self.num,self.den)   \n",
        "\n",
        "  \n",
        "  def __add__(self,other): #when we add two object of class\n",
        "    new_num = self.num*other.den + self.den*other.num\n",
        "    new_den = self.den*other.den \n",
        "\n",
        "    return '{}/{}'.format(new_num,new_den) \n",
        "\n",
        "  def __sub__(self,other): #when we sub two object of class\n",
        "    new_num = self.num*other.den - self.den*other.num\n",
        "    new_den = self.den*other.den \n",
        "\n",
        "    return '{}/{}'.format(new_num,new_den)   \n",
        "\n",
        "  def __mul__(self,other): #when we mul two object of class\n",
        "    new_num = self.num*other.num \n",
        "    new_den = self.den*other.den \n",
        "\n",
        "    return '{}/{}'.format(new_num,new_den)     \n",
        "\n",
        "  def __truediv__(self,other): #when we div two object of class\n",
        "    new_num = self.num*other.den \n",
        "    new_den = self.den*other.num\n",
        "\n",
        "    return '{}/{}'.format(new_num,new_den)   \n",
        "\n",
        "  def conver_to_decimal(self):\n",
        "    return self.num/self.den      "
      ],
      "metadata": {
        "id": "wSPCqFBMSd3v"
      },
      "execution_count": null,
      "outputs": []
    },
    {
      "cell_type": "code",
      "source": [
        "fr1=Fraction()"
      ],
      "metadata": {
        "colab": {
          "base_uri": "https://localhost:8080/",
          "height": 165
        },
        "id": "GCBkzl2jTrDL",
        "outputId": "d66f3bdc-0a65-4397-b544-29d687eb7a80"
      },
      "execution_count": null,
      "outputs": [
        {
          "output_type": "error",
          "ename": "TypeError",
          "evalue": "ignored",
          "traceback": [
            "\u001b[0;31m---------------------------------------------------------------------------\u001b[0m",
            "\u001b[0;31mTypeError\u001b[0m                                 Traceback (most recent call last)",
            "\u001b[0;32m<ipython-input-14-ebbfb4e9a1c6>\u001b[0m in \u001b[0;36m<module>\u001b[0;34m\u001b[0m\n\u001b[0;32m----> 1\u001b[0;31m \u001b[0mfr1\u001b[0m\u001b[0;34m=\u001b[0m\u001b[0mFraction\u001b[0m\u001b[0;34m(\u001b[0m\u001b[0;34m)\u001b[0m\u001b[0;34m\u001b[0m\u001b[0;34m\u001b[0m\u001b[0m\n\u001b[0m",
            "\u001b[0;31mTypeError\u001b[0m: __init__() missing 2 required positional arguments: 'x' and 'y'"
          ]
        }
      ]
    },
    {
      "cell_type": "code",
      "source": [
        "fr1=Fraction(3,4)"
      ],
      "metadata": {
        "id": "UcgVyohjTwWI"
      },
      "execution_count": null,
      "outputs": []
    },
    {
      "cell_type": "code",
      "source": [
        "type(fr1)"
      ],
      "metadata": {
        "colab": {
          "base_uri": "https://localhost:8080/"
        },
        "id": "8TVJt_62T3LM",
        "outputId": "ff5e3952-ba38-4b90-bd3c-e3f375e8c0bd"
      },
      "execution_count": null,
      "outputs": [
        {
          "output_type": "execute_result",
          "data": {
            "text/plain": [
              "__main__.Fraction"
            ]
          },
          "metadata": {},
          "execution_count": 9
        }
      ]
    },
    {
      "cell_type": "code",
      "source": [
        "print(fr1)"
      ],
      "metadata": {
        "colab": {
          "base_uri": "https://localhost:8080/"
        },
        "id": "5G7UlKbgT6hX",
        "outputId": "f019e1bd-e917-4949-8cff-2b2c52766c77"
      },
      "execution_count": null,
      "outputs": [
        {
          "output_type": "stream",
          "name": "stdout",
          "text": [
            "<__main__.Fraction object at 0x7fb95b1fd890>\n"
          ]
        }
      ]
    },
    {
      "cell_type": "code",
      "source": [
        "print(fr1)"
      ],
      "metadata": {
        "colab": {
          "base_uri": "https://localhost:8080/"
        },
        "id": "kArHxw6MT86_",
        "outputId": "8aebf2cb-e9e4-4e87-8973-7b761bd217bc"
      },
      "execution_count": null,
      "outputs": [
        {
          "output_type": "stream",
          "name": "stdout",
          "text": [
            "3/4\n"
          ]
        }
      ]
    },
    {
      "cell_type": "code",
      "source": [
        "fr2 = Fraction(1,2)\n",
        "print(fr2)"
      ],
      "metadata": {
        "colab": {
          "base_uri": "https://localhost:8080/"
        },
        "id": "JFs3I1l6VKyx",
        "outputId": "95eed288-8448-4970-ba2e-22d50daa3dac"
      },
      "execution_count": null,
      "outputs": [
        {
          "output_type": "stream",
          "name": "stdout",
          "text": [
            "1/2\n"
          ]
        }
      ]
    },
    {
      "cell_type": "code",
      "source": [
        "print(fr1+fr2)"
      ],
      "metadata": {
        "colab": {
          "base_uri": "https://localhost:8080/",
          "height": 165
        },
        "id": "2fphVecHViZX",
        "outputId": "cd3d44ac-b5f2-46fa-d2aa-8d09dd82ec85"
      },
      "execution_count": null,
      "outputs": [
        {
          "output_type": "error",
          "ename": "TypeError",
          "evalue": "ignored",
          "traceback": [
            "\u001b[0;31m---------------------------------------------------------------------------\u001b[0m",
            "\u001b[0;31mTypeError\u001b[0m                                 Traceback (most recent call last)",
            "\u001b[0;32m<ipython-input-22-fa257b8abd78>\u001b[0m in \u001b[0;36m<module>\u001b[0;34m\u001b[0m\n\u001b[0;32m----> 1\u001b[0;31m \u001b[0mprint\u001b[0m\u001b[0;34m(\u001b[0m\u001b[0mfr1\u001b[0m\u001b[0;34m+\u001b[0m\u001b[0mfr2\u001b[0m\u001b[0;34m)\u001b[0m\u001b[0;34m\u001b[0m\u001b[0;34m\u001b[0m\u001b[0m\n\u001b[0m",
            "\u001b[0;31mTypeError\u001b[0m: unsupported operand type(s) for +: 'Fraction' and 'Fraction'"
          ]
        }
      ]
    },
    {
      "cell_type": "code",
      "source": [
        "s1={1,2,3}\n",
        "s2={3,4,5}\n",
        "s1+s2"
      ],
      "metadata": {
        "colab": {
          "base_uri": "https://localhost:8080/",
          "height": 200
        },
        "id": "qO9qq9R3VRSz",
        "outputId": "e7bab4a6-3dc3-4192-d83b-229e2607da6f"
      },
      "execution_count": null,
      "outputs": [
        {
          "output_type": "error",
          "ename": "TypeError",
          "evalue": "ignored",
          "traceback": [
            "\u001b[0;31m---------------------------------------------------------------------------\u001b[0m",
            "\u001b[0;31mTypeError\u001b[0m                                 Traceback (most recent call last)",
            "\u001b[0;32m<ipython-input-23-6c9786bc1a74>\u001b[0m in \u001b[0;36m<module>\u001b[0;34m\u001b[0m\n\u001b[1;32m      1\u001b[0m \u001b[0ms1\u001b[0m\u001b[0;34m=\u001b[0m\u001b[0;34m{\u001b[0m\u001b[0;36m1\u001b[0m\u001b[0;34m,\u001b[0m\u001b[0;36m2\u001b[0m\u001b[0;34m,\u001b[0m\u001b[0;36m3\u001b[0m\u001b[0;34m}\u001b[0m\u001b[0;34m\u001b[0m\u001b[0;34m\u001b[0m\u001b[0m\n\u001b[1;32m      2\u001b[0m \u001b[0ms2\u001b[0m\u001b[0;34m=\u001b[0m\u001b[0;34m{\u001b[0m\u001b[0;36m3\u001b[0m\u001b[0;34m,\u001b[0m\u001b[0;36m4\u001b[0m\u001b[0;34m,\u001b[0m\u001b[0;36m5\u001b[0m\u001b[0;34m}\u001b[0m\u001b[0;34m\u001b[0m\u001b[0;34m\u001b[0m\u001b[0m\n\u001b[0;32m----> 3\u001b[0;31m \u001b[0ms1\u001b[0m\u001b[0;34m+\u001b[0m\u001b[0ms2\u001b[0m\u001b[0;34m\u001b[0m\u001b[0;34m\u001b[0m\u001b[0m\n\u001b[0m",
            "\u001b[0;31mTypeError\u001b[0m: unsupported operand type(s) for +: 'set' and 'set'"
          ]
        }
      ]
    },
    {
      "cell_type": "code",
      "source": [
        "print(fr1+fr2)\n",
        "print(fr1-fr2)\n",
        "print(fr1*fr2)\n",
        "print(fr1/fr2)"
      ],
      "metadata": {
        "colab": {
          "base_uri": "https://localhost:8080/"
        },
        "id": "micqm0UNWNiu",
        "outputId": "3cfde18d-0db0-41b5-9ad0-8e48b29744ee"
      },
      "execution_count": null,
      "outputs": [
        {
          "output_type": "stream",
          "name": "stdout",
          "text": [
            "10/8\n",
            "2/8\n",
            "3/8\n",
            "6/4\n"
          ]
        }
      ]
    },
    {
      "cell_type": "code",
      "source": [
        "fr1.conver_to_decimal()"
      ],
      "metadata": {
        "colab": {
          "base_uri": "https://localhost:8080/"
        },
        "id": "y4VG_RS1aCDl",
        "outputId": "05518e0e-9132-45a2-dffc-3d9aca3e3869"
      },
      "execution_count": null,
      "outputs": [
        {
          "output_type": "execute_result",
          "data": {
            "text/plain": [
              "0.75"
            ]
          },
          "metadata": {},
          "execution_count": 46
        }
      ]
    },
    {
      "cell_type": "code",
      "source": [],
      "metadata": {
        "id": "Umc9_iLKaFmn"
      },
      "execution_count": null,
      "outputs": []
    }
  ]
}